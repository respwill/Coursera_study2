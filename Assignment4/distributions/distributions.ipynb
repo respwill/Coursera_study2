%matplotlib notebook

from matplotlib import animation
import matplotlib.pyplot as plt
import numpy as np

# generate 4 random variables from the random, gamma, exponential, and uniform distributions
x1 = np.random.normal(-2.5, 1, 10000)
x2 = np.random.gamma(2, 1.5, 10000)
x3 = np.random.exponential(2, 10000)+7
x4 = np.random.uniform(14,20, 10000)

xs = [x1, x2, x3, x4]

fig, (ax1, ax2, ax3, ax4) = plt.subplots(4,1, figsize=(9,9))

axs = [ax1, ax2, ax3, ax4]

titles = ['Normal', 'Gamma', "Exponential", 'Uniform']

colors = ['red', 'green', 'blue', 'purple']

for ax in axs:
    ax.spines['top'].set_visible(False)
    ax.spines['bottom'].set_visible(False)
    ax.spines['left'].set_visible(False)
    ax.spines['right'].set_visible(False)
    ax.tick_params(axis='both', left='off', top='off', right='off', bottom='off', labelleft='off', labeltop='off', labelright='off', labelbottom='off')
    
plt.subplots_adjust(hspace=.5)

def redraw(curr):
    
    samples = 100 + curr * 50
    
    if samples > 1000:
        curr.event_source.stop()
    fig.suptitle("Visualizing distributions with {} samples".format(samples),fontsize=20)
    
    for (ax, x, title, color) in zip(axs, xs, titles, colors):    
        ax.clear()
        ax.spines['top'].set_visible(False)
        ax.spines['bottom'].set_visible(False)
        ax.spines['left'].set_visible(False)
        ax.spines['right'].set_visible(False)
        ax.hist(x[:100+curr*50], color=color, bins=50, alpha=.5)
        ax.set_title(title, color=color, alpha=.7)
        ax.tick_params(axis='both', left='off', top='off', right='off', bottom='off', labelleft='off', labeltop='off', labelright='off', labelbottom='off')

a = animation.FuncAnimation(fig, redraw, interval=1000, blit=True)


